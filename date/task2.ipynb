{
 "cells": [
  {
   "cell_type": "code",
   "execution_count": 1,
   "metadata": {},
   "outputs": [
    {
     "name": "stdout",
     "output_type": "stream",
     "text": [
      "Yesterday:  17-02-2025\n",
      "Today:  18-02-2025\n",
      "Tomorrow:  19-02-2025\n"
     ]
    }
   ],
   "source": [
    "from datetime import date,  timedelta, datetime\n",
    "time = datetime.now()-timedelta(1)\n",
    "yesterday = time.strftime(\"%d-%m-%Y\")\n",
    "\n",
    "print(\"Yesterday: \",yesterday)\n",
    "\n",
    "time = datetime.now()\n",
    "today = time.strftime(\"%d-%m-%Y\")\n",
    "\n",
    "print(\"Today: \",today)\n",
    "\n",
    "time = datetime.now()+timedelta(1)\n",
    "tomorrow = time.strftime(\"%d-%m-%Y\")\n",
    "\n",
    "print(\"Tomorrow: \", tomorrow)"
   ]
  }
 ],
 "metadata": {
  "kernelspec": {
   "display_name": "Python 3",
   "language": "python",
   "name": "python3"
  },
  "language_info": {
   "codemirror_mode": {
    "name": "ipython",
    "version": 3
   },
   "file_extension": ".py",
   "mimetype": "text/x-python",
   "name": "python",
   "nbconvert_exporter": "python",
   "pygments_lexer": "ipython3",
   "version": "3.12.3"
  }
 },
 "nbformat": 4,
 "nbformat_minor": 2
}
