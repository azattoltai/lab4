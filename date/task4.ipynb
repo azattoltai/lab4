{
 "cells": [
  {
   "cell_type": "code",
   "execution_count": 1,
   "metadata": {},
   "outputs": [
    {
     "name": "stdout",
     "output_type": "stream",
     "text": [
      "172800.0000591278\n"
     ]
    }
   ],
   "source": [
    "from datetime import date,timedelta, datetime\n",
    "yesterday = datetime.now()-timedelta(1)\n",
    "tomorrow = datetime.now()+timedelta(1)\n",
    "\n",
    "\n",
    "yesterday = datetime.timestamp(yesterday)\n",
    "tomorrow = datetime.timestamp(tomorrow)\n",
    "\n",
    "print(tomorrow-yesterday)"
   ]
  }
 ],
 "metadata": {
  "kernelspec": {
   "display_name": "Python 3",
   "language": "python",
   "name": "python3"
  },
  "language_info": {
   "codemirror_mode": {
    "name": "ipython",
    "version": 3
   },
   "file_extension": ".py",
   "mimetype": "text/x-python",
   "name": "python",
   "nbconvert_exporter": "python",
   "pygments_lexer": "ipython3",
   "version": "3.12.3"
  }
 },
 "nbformat": 4,
 "nbformat_minor": 2
}
